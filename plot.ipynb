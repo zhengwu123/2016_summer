{
  "nbformat": 4,
  "nbformat_minor": 0,
  "metadata": {
    "colab": {
      "name": "Untitled8.ipynb",
      "provenance": [],
      "authorship_tag": "ABX9TyPZpLtw15hxaxh8ZDcgsBlZ",
      "include_colab_link": true
    },
    "kernelspec": {
      "name": "python3",
      "display_name": "Python 3"
    },
    "language_info": {
      "name": "python"
    }
  },
  "cells": [
    {
      "cell_type": "markdown",
      "metadata": {
        "id": "view-in-github",
        "colab_type": "text"
      },
      "source": [
        "<a href=\"https://colab.research.google.com/github/zhengwu123/2016_summer/blob/master/plot.ipynb\" target=\"_parent\"><img src=\"https://colab.research.google.com/assets/colab-badge.svg\" alt=\"Open In Colab\"/></a>"
      ]
    },
    {
      "cell_type": "code",
      "execution_count": 1,
      "metadata": {
        "id": "ofti11FuJerv"
      },
      "outputs": [],
      "source": [
        "# import packages\n",
        "import pandas as pd\n",
        "import numpy as np\n",
        "import scipy\n",
        "import gensim"
      ]
    },
    {
      "cell_type": "code",
      "source": [
        "# import models\n",
        "import gensim.downloader\n",
        "# Show all available models in gensim-data\n",
        "print(list(gensim.downloader.info()['models'].keys()))\n",
        "# Download the \"word2vec-google-news-300\" embeddings:\n",
        "word2vec_google_news = gensim.downloader.load('word2vec-google-news-300')"
      ],
      "metadata": {
        "colab": {
          "base_uri": "https://localhost:8080/"
        },
        "id": "Otqm62gHJlfx",
        "outputId": "86abbb7e-72b6-4483-d6e7-23ca50c59f5b"
      },
      "execution_count": 2,
      "outputs": [
        {
          "output_type": "stream",
          "name": "stdout",
          "text": [
            "['fasttext-wiki-news-subwords-300', 'conceptnet-numberbatch-17-06-300', 'word2vec-ruscorpora-300', 'word2vec-google-news-300', 'glove-wiki-gigaword-50', 'glove-wiki-gigaword-100', 'glove-wiki-gigaword-200', 'glove-wiki-gigaword-300', 'glove-twitter-25', 'glove-twitter-50', 'glove-twitter-100', 'glove-twitter-200', '__testing_word2vec-matrix-synopsis']\n",
            "[==================================================] 100.0% 1662.8/1662.8MB downloaded\n"
          ]
        }
      ]
    },
    {
      "cell_type": "code",
      "source": [
        "\n",
        "from sklearn.manifold import TSNE\n",
        "import altair as alt\n",
        "group_list = ['group', 'team', 'together', 'mass', 'union', 'alliance', 'partner']  # 7 words\n",
        "individual_list = ['individual','single', 'solo', 'solitary', 'exclusive', 'isolated', 'separate']  # 7 words\n",
        "impact_list = ['impact', 'influence', 'grand', 'contribution', 'improvement', 'significant', 'prominant']  # 7 words\n",
        "# label & token lists\n",
        "words_list = individual_list + group_list + impact_list\n",
        "words_list2 = [\"cooling\", \"fizzy\", \"minty\", \"sparking\", \"tingling\", \"hot\", \"burn\", \"warming\", \"bubbly\", \"spicy\"\n",
        "    , \"flat\", \"plain\", \"insipid\", \"unscented\", \"featureless\", \"tasteless\",\n",
        "                  \"active\", \"energetic\", \"enthusiastic\", \"excited\", \"powerful\", \"lively\", \"strong\", \"power\", \"action\",\n",
        "                  \"energy\", \"strength\"]\n",
        "labels = ['sensory'] * 10 + ['non-sensory'] * 6 + ['energize']* 11\n",
        "labels2 = ['group'] * 7 + ['individual'] * 7 + ['impact']* 7\n",
        "words = np.array([word2vec_google_news[word] for word in words_list2])\n",
        "# tsne_model: need fine tune\n",
        "tsne_model = TSNE(perplexity=6, n_components=2, init='pca', learning_rate=100)  \n",
        "tsne_results = tsne_model.fit_transform(words)"
      ],
      "metadata": {
        "colab": {
          "base_uri": "https://localhost:8080/"
        },
        "id": "K-EXAFlDJs5h",
        "outputId": "0acf1432-ebcb-405b-9efa-0d86a8a93990"
      },
      "execution_count": 76,
      "outputs": [
        {
          "output_type": "stream",
          "name": "stderr",
          "text": [
            "/usr/local/lib/python3.7/dist-packages/sklearn/manifold/_t_sne.py:986: FutureWarning: The PCA initialization in TSNE will change to have the standard deviation of PC1 equal to 1e-4 in 1.2. This will ensure better convergence.\n",
            "  FutureWarning,\n"
          ]
        }
      ]
    },
    {
      "cell_type": "code",
      "source": [
        "source = pd.DataFrame({\n",
        "    'x': tsne_results[:,0], 'y': tsne_results[:,1], \n",
        "    'Category': labels,  # name of your legend\n",
        "    'words_list': words_list2\n",
        "})\n",
        "points = alt.Chart(source).mark_point().encode(\n",
        "    x='x:Q', y='y:Q', color='Category' # name of your legend\n",
        ")\n",
        "text = points.mark_text(align='left', baseline='middle', dx=7).encode(\n",
        "    text='words_list'  # word_lists \n",
        ")\n",
        "points + text    # high quality: save as SVG"
      ],
      "metadata": {
        "colab": {
          "base_uri": "https://localhost:8080/",
          "height": 368
        },
        "id": "DUOWiqucKQS7",
        "outputId": "5ece14d4-0d63-44ce-956e-7308759e109f"
      },
      "execution_count": 77,
      "outputs": [
        {
          "output_type": "execute_result",
          "data": {
            "text/plain": [
              "alt.LayerChart(...)"
            ],
            "text/html": [
              "\n",
              "<div id=\"altair-viz-77eaa8b9cb6047359147ef38f14c45eb\"></div>\n",
              "<script type=\"text/javascript\">\n",
              "  var VEGA_DEBUG = (typeof VEGA_DEBUG == \"undefined\") ? {} : VEGA_DEBUG;\n",
              "  (function(spec, embedOpt){\n",
              "    let outputDiv = document.currentScript.previousElementSibling;\n",
              "    if (outputDiv.id !== \"altair-viz-77eaa8b9cb6047359147ef38f14c45eb\") {\n",
              "      outputDiv = document.getElementById(\"altair-viz-77eaa8b9cb6047359147ef38f14c45eb\");\n",
              "    }\n",
              "    const paths = {\n",
              "      \"vega\": \"https://cdn.jsdelivr.net/npm//vega@5?noext\",\n",
              "      \"vega-lib\": \"https://cdn.jsdelivr.net/npm//vega-lib?noext\",\n",
              "      \"vega-lite\": \"https://cdn.jsdelivr.net/npm//vega-lite@4.17.0?noext\",\n",
              "      \"vega-embed\": \"https://cdn.jsdelivr.net/npm//vega-embed@6?noext\",\n",
              "    };\n",
              "\n",
              "    function maybeLoadScript(lib, version) {\n",
              "      var key = `${lib.replace(\"-\", \"\")}_version`;\n",
              "      return (VEGA_DEBUG[key] == version) ?\n",
              "        Promise.resolve(paths[lib]) :\n",
              "        new Promise(function(resolve, reject) {\n",
              "          var s = document.createElement('script');\n",
              "          document.getElementsByTagName(\"head\")[0].appendChild(s);\n",
              "          s.async = true;\n",
              "          s.onload = () => {\n",
              "            VEGA_DEBUG[key] = version;\n",
              "            return resolve(paths[lib]);\n",
              "          };\n",
              "          s.onerror = () => reject(`Error loading script: ${paths[lib]}`);\n",
              "          s.src = paths[lib];\n",
              "        });\n",
              "    }\n",
              "\n",
              "    function showError(err) {\n",
              "      outputDiv.innerHTML = `<div class=\"error\" style=\"color:red;\">${err}</div>`;\n",
              "      throw err;\n",
              "    }\n",
              "\n",
              "    function displayChart(vegaEmbed) {\n",
              "      vegaEmbed(outputDiv, spec, embedOpt)\n",
              "        .catch(err => showError(`Javascript Error: ${err.message}<br>This usually means there's a typo in your chart specification. See the javascript console for the full traceback.`));\n",
              "    }\n",
              "\n",
              "    if(typeof define === \"function\" && define.amd) {\n",
              "      requirejs.config({paths});\n",
              "      require([\"vega-embed\"], displayChart, err => showError(`Error loading script: ${err.message}`));\n",
              "    } else {\n",
              "      maybeLoadScript(\"vega\", \"5\")\n",
              "        .then(() => maybeLoadScript(\"vega-lite\", \"4.17.0\"))\n",
              "        .then(() => maybeLoadScript(\"vega-embed\", \"6\"))\n",
              "        .catch(showError)\n",
              "        .then(() => displayChart(vegaEmbed));\n",
              "    }\n",
              "  })({\"config\": {\"view\": {\"continuousWidth\": 400, \"continuousHeight\": 300}}, \"layer\": [{\"mark\": \"point\", \"encoding\": {\"color\": {\"field\": \"Category\", \"type\": \"nominal\"}, \"x\": {\"field\": \"x\", \"type\": \"quantitative\"}, \"y\": {\"field\": \"y\", \"type\": \"quantitative\"}}}, {\"mark\": {\"type\": \"text\", \"align\": \"left\", \"baseline\": \"middle\", \"dx\": 7}, \"encoding\": {\"color\": {\"field\": \"Category\", \"type\": \"nominal\"}, \"text\": {\"field\": \"words_list\", \"type\": \"nominal\"}, \"x\": {\"field\": \"x\", \"type\": \"quantitative\"}, \"y\": {\"field\": \"y\", \"type\": \"quantitative\"}}}], \"data\": {\"name\": \"data-17db8a122a9c355123e2d10f7c622638\"}, \"$schema\": \"https://vega.github.io/schema/vega-lite/v4.17.0.json\", \"datasets\": {\"data-17db8a122a9c355123e2d10f7c622638\": [{\"x\": 32.812923431396484, \"y\": 64.89952850341797, \"Category\": \"sensory\", \"words_list\": \"cooling\"}, {\"x\": -39.63496017456055, \"y\": -13.149741172790527, \"Category\": \"sensory\", \"words_list\": \"fizzy\"}, {\"x\": -54.53490447998047, \"y\": -9.3773193359375, \"Category\": \"sensory\", \"words_list\": \"minty\"}, {\"x\": 54.508331298828125, \"y\": 33.12934875488281, \"Category\": \"sensory\", \"words_list\": \"sparking\"}, {\"x\": -45.15459442138672, \"y\": 11.69045639038086, \"Category\": \"sensory\", \"words_list\": \"tingling\"}, {\"x\": 0.9521523714065552, \"y\": 24.216278076171875, \"Category\": \"sensory\", \"words_list\": \"hot\"}, {\"x\": -13.18236255645752, \"y\": 23.25522804260254, \"Category\": \"sensory\", \"words_list\": \"burn\"}, {\"x\": 27.839542388916016, \"y\": 75.29827117919922, \"Category\": \"sensory\", \"words_list\": \"warming\"}, {\"x\": -29.709062576293945, \"y\": -16.43017578125, \"Category\": \"sensory\", \"words_list\": \"bubbly\"}, {\"x\": -57.649940490722656, \"y\": -19.449169158935547, \"Category\": \"sensory\", \"words_list\": \"spicy\"}, {\"x\": -9.813289642333984, \"y\": 48.046390533447266, \"Category\": \"non-sensory\", \"words_list\": \"flat\"}, {\"x\": -23.54166603088379, \"y\": 49.1943244934082, \"Category\": \"non-sensory\", \"words_list\": \"plain\"}, {\"x\": -36.955474853515625, \"y\": 48.39740753173828, \"Category\": \"non-sensory\", \"words_list\": \"insipid\"}, {\"x\": -65.54798126220703, \"y\": -1.940109133720398, \"Category\": \"non-sensory\", \"words_list\": \"unscented\"}, {\"x\": -13.70262622833252, \"y\": 63.36726379394531, \"Category\": \"non-sensory\", \"words_list\": \"featureless\"}, {\"x\": -46.98268127441406, \"y\": 53.46473693847656, \"Category\": \"non-sensory\", \"words_list\": \"tasteless\"}, {\"x\": 22.446752548217773, \"y\": 5.018763065338135, \"Category\": \"energize\", \"words_list\": \"active\"}, {\"x\": 8.367152214050293, \"y\": -8.115681648254395, \"Category\": \"energize\", \"words_list\": \"energetic\"}, {\"x\": 15.691556930541992, \"y\": -17.830429077148438, \"Category\": \"energize\", \"words_list\": \"enthusiastic\"}, {\"x\": 21.881399154663086, \"y\": -27.491933822631836, \"Category\": \"energize\", \"words_list\": \"excited\"}, {\"x\": 18.171274185180664, \"y\": 36.884544372558594, \"Category\": \"energize\", \"words_list\": \"powerful\"}, {\"x\": 0.04985799267888069, \"y\": -2.3115546703338623, \"Category\": \"energize\", \"words_list\": \"lively\"}, {\"x\": 15.444463729858398, \"y\": 24.627347946166992, \"Category\": \"energize\", \"words_list\": \"strong\"}, {\"x\": 36.51892852783203, \"y\": 40.71684646606445, \"Category\": \"energize\", \"words_list\": \"power\"}, {\"x\": 36.50504684448242, \"y\": 9.732586860656738, \"Category\": \"energize\", \"words_list\": \"action\"}, {\"x\": 43.210384368896484, \"y\": 47.51151657104492, \"Category\": \"energize\", \"words_list\": \"energy\"}, {\"x\": 25.95517349243164, \"y\": 25.391952514648438, \"Category\": \"energize\", \"words_list\": \"strength\"}]}}, {\"mode\": \"vega-lite\"});\n",
              "</script>"
            ]
          },
          "metadata": {},
          "execution_count": 77
        }
      ]
    }
  ]
}